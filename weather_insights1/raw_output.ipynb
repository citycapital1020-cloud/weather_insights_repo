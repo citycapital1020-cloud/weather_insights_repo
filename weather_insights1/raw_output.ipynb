{
 "cells": [
  {
   "cell_type": "code",
   "execution_count": 1,
   "id": "c80c6420",
   "metadata": {
    "execution": {
     "iopub.execute_input": "2025-07-22T12:00:05.232764Z",
     "iopub.status.busy": "2025-07-22T12:00:05.232009Z",
     "iopub.status.idle": "2025-07-22T12:00:59.680342Z",
     "shell.execute_reply": "2025-07-22T12:00:59.676365Z"
    },
    "papermill": {
     "duration": 54.464326,
     "end_time": "2025-07-22T12:00:59.688345",
     "exception": false,
     "start_time": "2025-07-22T12:00:05.224019",
     "status": "completed"
    },
    "tags": []
   },
   "outputs": [
    {
     "name": "stdout",
     "output_type": "stream",
     "text": [
      "json files path: /opt/airflow/weather_data/raw\n",
      "Starting API calls for London...\n",
      "[London] API Call 1/10 - Saved to weather_data_London_20250722_120005_400_call1.json\n"
     ]
    },
    {
     "name": "stdout",
     "output_type": "stream",
     "text": [
      "[London] API Call 2/10 - Saved to weather_data_London_20250722_120006_454_call2.json\n"
     ]
    },
    {
     "name": "stdout",
     "output_type": "stream",
     "text": [
      "[London] API Call 3/10 - Saved to weather_data_London_20250722_120007_501_call3.json\n"
     ]
    },
    {
     "name": "stdout",
     "output_type": "stream",
     "text": [
      "[London] API Call 4/10 - Saved to weather_data_London_20250722_120008_557_call4.json\n"
     ]
    },
    {
     "name": "stdout",
     "output_type": "stream",
     "text": [
      "[London] API Call 5/10 - Saved to weather_data_London_20250722_120009_628_call5.json\n"
     ]
    },
    {
     "name": "stdout",
     "output_type": "stream",
     "text": [
      "[London] API Call 6/10 - Saved to weather_data_London_20250722_120010_741_call6.json\n"
     ]
    },
    {
     "name": "stdout",
     "output_type": "stream",
     "text": [
      "[London] API Call 7/10 - Saved to weather_data_London_20250722_120011_816_call7.json\n"
     ]
    },
    {
     "name": "stdout",
     "output_type": "stream",
     "text": [
      "[London] API Call 8/10 - Saved to weather_data_London_20250722_120012_891_call8.json\n"
     ]
    },
    {
     "name": "stdout",
     "output_type": "stream",
     "text": [
      "[London] API Call 9/10 - Saved to weather_data_London_20250722_120013_980_call9.json\n"
     ]
    },
    {
     "name": "stdout",
     "output_type": "stream",
     "text": [
      "[London] API Call 10/10 - Saved to weather_data_London_20250722_120015_055_call10.json\n"
     ]
    },
    {
     "name": "stdout",
     "output_type": "stream",
     "text": [
      "Completed API calls for London.\n",
      "\n",
      "Starting API calls for New York...\n",
      "[New York] API Call 1/10 - Saved to weather_data_New York_20250722_120016_164_call1.json\n"
     ]
    },
    {
     "name": "stdout",
     "output_type": "stream",
     "text": [
      "[New York] API Call 2/10 - Saved to weather_data_New York_20250722_120017_219_call2.json\n"
     ]
    },
    {
     "name": "stdout",
     "output_type": "stream",
     "text": [
      "[New York] API Call 3/10 - Saved to weather_data_New York_20250722_120018_270_call3.json\n"
     ]
    },
    {
     "name": "stdout",
     "output_type": "stream",
     "text": [
      "[New York] API Call 4/10 - Saved to weather_data_New York_20250722_120019_313_call4.json\n"
     ]
    },
    {
     "name": "stdout",
     "output_type": "stream",
     "text": [
      "[New York] API Call 5/10 - Saved to weather_data_New York_20250722_120020_382_call5.json\n"
     ]
    },
    {
     "name": "stdout",
     "output_type": "stream",
     "text": [
      "[New York] API Call 6/10 - Saved to weather_data_New York_20250722_120021_437_call6.json\n"
     ]
    },
    {
     "name": "stdout",
     "output_type": "stream",
     "text": [
      "[New York] API Call 7/10 - Saved to weather_data_New York_20250722_120022_481_call7.json\n"
     ]
    },
    {
     "name": "stdout",
     "output_type": "stream",
     "text": [
      "[New York] API Call 8/10 - Saved to weather_data_New York_20250722_120023_526_call8.json\n"
     ]
    },
    {
     "name": "stdout",
     "output_type": "stream",
     "text": [
      "[New York] API Call 9/10 - Saved to weather_data_New York_20250722_120024_576_call9.json\n"
     ]
    },
    {
     "name": "stdout",
     "output_type": "stream",
     "text": [
      "[New York] API Call 10/10 - Saved to weather_data_New York_20250722_120025_622_call10.json\n"
     ]
    },
    {
     "name": "stdout",
     "output_type": "stream",
     "text": [
      "Completed API calls for New York.\n",
      "\n",
      "Starting API calls for Svalbard...\n",
      "[Svalbard] API Call 1/10 - Saved to weather_data_Svalbard_20250722_120026_731_call1.json\n"
     ]
    },
    {
     "name": "stdout",
     "output_type": "stream",
     "text": [
      "[Svalbard] API Call 2/10 - Saved to weather_data_Svalbard_20250722_120027_786_call2.json\n"
     ]
    },
    {
     "name": "stdout",
     "output_type": "stream",
     "text": [
      "[Svalbard] API Call 3/10 - Saved to weather_data_Svalbard_20250722_120028_856_call3.json\n"
     ]
    },
    {
     "name": "stdout",
     "output_type": "stream",
     "text": [
      "[Svalbard] API Call 4/10 - Saved to weather_data_Svalbard_20250722_120029_930_call4.json\n"
     ]
    },
    {
     "name": "stdout",
     "output_type": "stream",
     "text": [
      "[Svalbard] API Call 5/10 - Saved to weather_data_Svalbard_20250722_120030_996_call5.json\n"
     ]
    },
    {
     "name": "stdout",
     "output_type": "stream",
     "text": [
      "[Svalbard] API Call 6/10 - Saved to weather_data_Svalbard_20250722_120032_060_call6.json\n"
     ]
    },
    {
     "name": "stdout",
     "output_type": "stream",
     "text": [
      "[Svalbard] API Call 7/10 - Saved to weather_data_Svalbard_20250722_120033_110_call7.json\n"
     ]
    },
    {
     "name": "stdout",
     "output_type": "stream",
     "text": [
      "[Svalbard] API Call 8/10 - Saved to weather_data_Svalbard_20250722_120034_159_call8.json\n"
     ]
    },
    {
     "name": "stdout",
     "output_type": "stream",
     "text": [
      "[Svalbard] API Call 9/10 - Saved to weather_data_Svalbard_20250722_120035_218_call9.json\n"
     ]
    },
    {
     "name": "stdout",
     "output_type": "stream",
     "text": [
      "[Svalbard] API Call 10/10 - Saved to weather_data_Svalbard_20250722_120036_283_call10.json\n"
     ]
    },
    {
     "name": "stdout",
     "output_type": "stream",
     "text": [
      "Completed API calls for Svalbard.\n",
      "\n",
      "Starting API calls for Dubai...\n",
      "[Dubai] API Call 1/10 - Saved to weather_data_Dubai_20250722_120037_365_call1.json\n"
     ]
    },
    {
     "name": "stdout",
     "output_type": "stream",
     "text": [
      "[Dubai] API Call 2/10 - Saved to weather_data_Dubai_20250722_120038_431_call2.json\n"
     ]
    },
    {
     "name": "stdout",
     "output_type": "stream",
     "text": [
      "[Dubai] API Call 3/10 - Saved to weather_data_Dubai_20250722_120039_510_call3.json\n"
     ]
    },
    {
     "name": "stdout",
     "output_type": "stream",
     "text": [
      "[Dubai] API Call 4/10 - Saved to weather_data_Dubai_20250722_120040_594_call4.json\n"
     ]
    },
    {
     "name": "stdout",
     "output_type": "stream",
     "text": [
      "[Dubai] API Call 5/10 - Saved to weather_data_Dubai_20250722_120041_673_call5.json\n"
     ]
    },
    {
     "name": "stdout",
     "output_type": "stream",
     "text": [
      "[Dubai] API Call 6/10 - Saved to weather_data_Dubai_20250722_120042_783_call6.json\n"
     ]
    },
    {
     "name": "stdout",
     "output_type": "stream",
     "text": [
      "[Dubai] API Call 7/10 - Saved to weather_data_Dubai_20250722_120043_845_call7.json\n"
     ]
    },
    {
     "name": "stdout",
     "output_type": "stream",
     "text": [
      "[Dubai] API Call 8/10 - Saved to weather_data_Dubai_20250722_120044_915_call8.json\n"
     ]
    },
    {
     "name": "stdout",
     "output_type": "stream",
     "text": [
      "[Dubai] API Call 9/10 - Saved to weather_data_Dubai_20250722_120045_971_call9.json\n"
     ]
    },
    {
     "name": "stdout",
     "output_type": "stream",
     "text": [
      "[Dubai] API Call 10/10 - Saved to weather_data_Dubai_20250722_120047_025_call10.json\n"
     ]
    },
    {
     "name": "stdout",
     "output_type": "stream",
     "text": [
      "Completed API calls for Dubai.\n",
      "\n",
      "Starting API calls for Mombasa...\n",
      "[Mombasa] API Call 1/10 - Saved to weather_data_Mombasa_20250722_120048_087_call1.json\n"
     ]
    },
    {
     "name": "stdout",
     "output_type": "stream",
     "text": [
      "[Mombasa] API Call 2/10 - Saved to weather_data_Mombasa_20250722_120049_140_call2.json\n"
     ]
    },
    {
     "name": "stdout",
     "output_type": "stream",
     "text": [
      "[Mombasa] API Call 3/10 - Saved to weather_data_Mombasa_20250722_120050_207_call3.json\n"
     ]
    },
    {
     "name": "stdout",
     "output_type": "stream",
     "text": [
      "[Mombasa] API Call 4/10 - Saved to weather_data_Mombasa_20250722_120051_257_call4.json\n"
     ]
    },
    {
     "name": "stdout",
     "output_type": "stream",
     "text": [
      "[Mombasa] API Call 5/10 - Saved to weather_data_Mombasa_20250722_120052_302_call5.json\n"
     ]
    },
    {
     "name": "stdout",
     "output_type": "stream",
     "text": [
      "[Mombasa] API Call 6/10 - Saved to weather_data_Mombasa_20250722_120054_421_call6.json\n"
     ]
    },
    {
     "name": "stdout",
     "output_type": "stream",
     "text": [
      "[Mombasa] API Call 7/10 - Saved to weather_data_Mombasa_20250722_120055_496_call7.json\n"
     ]
    },
    {
     "name": "stdout",
     "output_type": "stream",
     "text": [
      "[Mombasa] API Call 8/10 - Saved to weather_data_Mombasa_20250722_120056_551_call8.json\n"
     ]
    },
    {
     "name": "stdout",
     "output_type": "stream",
     "text": [
      "[Mombasa] API Call 9/10 - Saved to weather_data_Mombasa_20250722_120057_603_call9.json\n"
     ]
    },
    {
     "name": "stdout",
     "output_type": "stream",
     "text": [
      "[Mombasa] API Call 10/10 - Saved to weather_data_Mombasa_20250722_120058_662_call10.json\n"
     ]
    },
    {
     "name": "stdout",
     "output_type": "stream",
     "text": [
      "Completed API calls for Mombasa.\n",
      "\n",
      "All API calls completed.\n"
     ]
    }
   ],
   "source": [
    "import os\n",
    "import requests\n",
    "import json\n",
    "import time  \n",
    "from datetime import datetime\n",
    "\n",
    "api_key = os.getenv(\"WEATHER_API_KEY\")\n",
    "\n",
    "base_url = 'http://api.openweathermap.org/data/2.5/weather'\n",
    "\n",
    "# Output directory\n",
    "# output_dir = r\"../weather_data/raw\"\n",
    "output_dir = r\"/opt/airflow/weather_data/raw\" # container path\n",
    "os.makedirs(output_dir, exist_ok=True)\n",
    "print(\"json files path:\",output_dir)\n",
    "\n",
    "# List of cities\n",
    "cities = ['London', 'New York', 'Svalbard', 'Dubai', 'Mombasa']\n",
    "\n",
    "num_calls_per_city = 10\n",
    "current_timestamp = datetime.now().strftime('%Y%m%d_%H%M%S')\n",
    "\n",
    "for city in cities:\n",
    "    print(f\"Starting API calls for {city}...\")\n",
    "\n",
    "    for i in range(num_calls_per_city):\n",
    "        url = f'{base_url}?q={city}&appid={api_key}&units=metric'\n",
    "\n",
    "        try:\n",
    "            response = requests.get(url)\n",
    "\n",
    "            if response.status_code == 200:\n",
    "                data = response.json()\n",
    "\n",
    "                # Create a flat (non-indented) JSON file\n",
    "                call_timestamp = datetime.now().strftime('%Y%m%d_%H%M%S_%f')[:-3]\n",
    "                filename = f'weather_data_{city}_{call_timestamp}_call{i+1}.json'\n",
    "                file_path = os.path.join(output_dir, filename)\n",
    "\n",
    "                # Write compact JSON (flat, one-line)\n",
    "                with open(file_path, 'w') as file:\n",
    "                    json.dump(data, file, separators=(',', ':'))  # no spaces, flat\n",
    "\n",
    "                print(f\"[{city}] API Call {i + 1}/{num_calls_per_city} - Saved to {filename}\")\n",
    "            else:\n",
    "                print(f\"[{city}] API Call {i + 1}/{num_calls_per_city} - Error {response.status_code}: {response.text}\")\n",
    "\n",
    "        except Exception as e:\n",
    "            print(f\"[{city}] API Call {i + 1}/{num_calls_per_city} - Exception occurred: {e}\")\n",
    "\n",
    "        time.sleep(1)\n",
    "\n",
    "    print(f\"Completed API calls for {city}.\\n\")\n",
    "\n",
    "print(\"All API calls completed.\")\n"
   ]
  }
 ],
 "metadata": {
  "kernelspec": {
   "display_name": "base",
   "language": "python",
   "name": "python3"
  },
  "language_info": {
   "codemirror_mode": {
    "name": "ipython",
    "version": 3
   },
   "file_extension": ".py",
   "mimetype": "text/x-python",
   "name": "python",
   "nbconvert_exporter": "python",
   "pygments_lexer": "ipython3",
   "version": "3.12.9"
  },
  "papermill": {
   "default_parameters": {},
   "duration": 56.572663,
   "end_time": "2025-07-22T12:00:59.971156",
   "environment_variables": {},
   "exception": null,
   "input_path": "/opt/airflow/notebooks/raw.ipynb",
   "output_path": "/opt/airflow/notebooks/raw_output.ipynb",
   "parameters": {},
   "start_time": "2025-07-22T12:00:03.398493",
   "version": "2.5.0"
  }
 },
 "nbformat": 4,
 "nbformat_minor": 5
}